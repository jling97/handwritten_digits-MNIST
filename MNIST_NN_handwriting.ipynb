{
 "cells": [
  {
   "cell_type": "code",
   "execution_count": 1,
   "metadata": {},
   "outputs": [
    {
     "name": "stdout",
     "output_type": "stream",
     "text": [
      "env: KERAS_BACKEND=tensorflow\n"
     ]
    }
   ],
   "source": [
    "%env KERAS_BACKEND=tensorflow"
   ]
  },
  {
   "cell_type": "code",
   "execution_count": 2,
   "metadata": {},
   "outputs": [],
   "source": [
    "%matplotlib inline\n",
    "import numpy as np\n",
    "import matplotlib.pyplot as plt"
   ]
  },
  {
   "cell_type": "code",
   "execution_count": 4,
   "metadata": {},
   "outputs": [],
   "source": [
    "#載入MNIST數據庫\n",
    "from keras.datasets import mnist\n",
    "(x_train,y_train),(x_test,y_test)=mnist.load_data()"
   ]
  },
  {
   "cell_type": "code",
   "execution_count": 5,
   "metadata": {},
   "outputs": [
    {
     "data": {
      "text/plain": [
       "60000"
      ]
     },
     "execution_count": 5,
     "metadata": {},
     "output_type": "execute_result"
    }
   ],
   "source": [
    "#檢視資料\n",
    "len(x_train)"
   ]
  },
  {
   "cell_type": "code",
   "execution_count": 6,
   "metadata": {},
   "outputs": [
    {
     "data": {
      "text/plain": [
       "10000"
      ]
     },
     "execution_count": 6,
     "metadata": {},
     "output_type": "execute_result"
    }
   ],
   "source": [
    "len(x_test)"
   ]
  },
  {
   "cell_type": "code",
   "execution_count": 11,
   "metadata": {},
   "outputs": [
    {
     "data": {
      "text/plain": [
       "(60000, 28, 28)"
      ]
     },
     "execution_count": 11,
     "metadata": {},
     "output_type": "execute_result"
    }
   ],
   "source": [
    "x_train.shape"
   ]
  },
  {
   "cell_type": "code",
   "execution_count": 12,
   "metadata": {},
   "outputs": [],
   "source": [
    "#輸入格式整理\n",
    "x_train=x_train.reshape(60000,784)\n",
    "x_test=x_test.reshape(10000,784)"
   ]
  },
  {
   "cell_type": "code",
   "execution_count": 15,
   "metadata": {},
   "outputs": [],
   "source": [
    "#輸出格式整理\n",
    "from keras.utils import np_utils\n",
    "#將資料變成one-hot encoding\n",
    "y_train=np_utils.to_categorical(y_train,10)\n",
    "y_test=np_utils.to_categorical(y_test,10)"
   ]
  },
  {
   "cell_type": "code",
   "execution_count": 17,
   "metadata": {},
   "outputs": [],
   "source": [
    "#讀入相關套件\n",
    "from keras.models import Sequential\n",
    "from keras.layers import Dense,Activation\n",
    "from keras.optimizers import SGD"
   ]
  },
  {
   "cell_type": "code",
   "execution_count": 21,
   "metadata": {},
   "outputs": [],
   "source": [
    "#建構神經網路\n",
    "model=Sequential()\n",
    "\n",
    "model.add(Dense(500,input_dim=784))\n",
    "model.add(Activation('sigmoid'))\n",
    "\n",
    "model.add(Dense(500))\n",
    "model.add(Activation('sigmoid'))\n",
    "\n",
    "model.add(Dense(10))\n",
    "model.add(Activation('softmax'))"
   ]
  },
  {
   "cell_type": "code",
   "execution_count": 22,
   "metadata": {},
   "outputs": [],
   "source": [
    "model.compile(loss='mse',optimizer=SGD(lr=0.1),metrics=['accuracy'])"
   ]
  },
  {
   "cell_type": "code",
   "execution_count": 23,
   "metadata": {},
   "outputs": [
    {
     "name": "stdout",
     "output_type": "stream",
     "text": [
      "Model: \"sequential_1\"\n",
      "_________________________________________________________________\n",
      "Layer (type)                 Output Shape              Param #   \n",
      "=================================================================\n",
      "dense_1 (Dense)              (None, 500)               392500    \n",
      "_________________________________________________________________\n",
      "activation_1 (Activation)    (None, 500)               0         \n",
      "_________________________________________________________________\n",
      "dense_2 (Dense)              (None, 500)               250500    \n",
      "_________________________________________________________________\n",
      "activation_2 (Activation)    (None, 500)               0         \n",
      "_________________________________________________________________\n",
      "dense_3 (Dense)              (None, 10)                5010      \n",
      "_________________________________________________________________\n",
      "activation_3 (Activation)    (None, 10)                0         \n",
      "=================================================================\n",
      "Total params: 648,010\n",
      "Trainable params: 648,010\n",
      "Non-trainable params: 0\n",
      "_________________________________________________________________\n"
     ]
    }
   ],
   "source": [
    "#檢視神經網路\n",
    "model.summary()"
   ]
  },
  {
   "cell_type": "code",
   "execution_count": 24,
   "metadata": {},
   "outputs": [
    {
     "name": "stdout",
     "output_type": "stream",
     "text": [
      "WARNING:tensorflow:From C:\\Users\\Jia Ling\\Anaconda3\\lib\\site-packages\\keras\\backend\\tensorflow_backend.py:422: The name tf.global_variables is deprecated. Please use tf.compat.v1.global_variables instead.\n",
      "\n",
      "Epoch 1/20\n",
      "60000/60000 [==============================] - 8s 133us/step - loss: 0.0820 - accuracy: 0.3647\n",
      "Epoch 2/20\n",
      "60000/60000 [==============================] - 8s 132us/step - loss: 0.0628 - accuracy: 0.6313\n",
      "Epoch 3/20\n",
      "60000/60000 [==============================] - 7s 112us/step - loss: 0.0454 - accuracy: 0.7538\n",
      "Epoch 4/20\n",
      "60000/60000 [==============================] - 7s 111us/step - loss: 0.0337 - accuracy: 0.8311\n",
      "Epoch 5/20\n",
      "60000/60000 [==============================] - 7s 111us/step - loss: 0.0263 - accuracy: 0.8685\n",
      "Epoch 6/20\n",
      "60000/60000 [==============================] - 7s 111us/step - loss: 0.0218 - accuracy: 0.8856\n",
      "Epoch 7/20\n",
      "60000/60000 [==============================] - 7s 110us/step - loss: 0.0191 - accuracy: 0.8959\n",
      "Epoch 8/20\n",
      "60000/60000 [==============================] - 7s 113us/step - loss: 0.0171 - accuracy: 0.9038\n",
      "Epoch 9/20\n",
      "60000/60000 [==============================] - 7s 111us/step - loss: 0.0158 - accuracy: 0.9100\n",
      "Epoch 10/20\n",
      "60000/60000 [==============================] - 7s 111us/step - loss: 0.0147 - accuracy: 0.9147\n",
      "Epoch 11/20\n",
      "60000/60000 [==============================] - 7s 111us/step - loss: 0.0138 - accuracy: 0.9188\n",
      "Epoch 12/20\n",
      "60000/60000 [==============================] - 7s 114us/step - loss: 0.0131 - accuracy: 0.9228\n",
      "Epoch 13/20\n",
      "60000/60000 [==============================] - 7s 113us/step - loss: 0.0125 - accuracy: 0.9262\n",
      "Epoch 14/20\n",
      "60000/60000 [==============================] - 7s 111us/step - loss: 0.0119 - accuracy: 0.9292\n",
      "Epoch 15/20\n",
      "60000/60000 [==============================] - 7s 113us/step - loss: 0.0114 - accuracy: 0.9322\n",
      "Epoch 16/20\n",
      "60000/60000 [==============================] - 7s 111us/step - loss: 0.0110 - accuracy: 0.9348\n",
      "Epoch 17/20\n",
      "60000/60000 [==============================] - 7s 111us/step - loss: 0.0106 - accuracy: 0.9374\n",
      "Epoch 18/20\n",
      "60000/60000 [==============================] - 7s 111us/step - loss: 0.0102 - accuracy: 0.9400\n",
      "Epoch 19/20\n",
      "60000/60000 [==============================] - 7s 112us/step - loss: 0.0098 - accuracy: 0.94190s - loss: 0.009\n",
      "Epoch 20/20\n",
      "60000/60000 [==============================] - 7s 113us/step - loss: 0.0096 - accuracy: 0.9444\n"
     ]
    },
    {
     "data": {
      "text/plain": [
       "<keras.callbacks.callbacks.History at 0x1461241eeb8>"
      ]
     },
     "execution_count": 24,
     "metadata": {},
     "output_type": "execute_result"
    }
   ],
   "source": [
    "#訓練神經網路\n",
    "model.fit(x_train,y_train,batch_size=100,epochs=20)"
   ]
  },
  {
   "cell_type": "code",
   "execution_count": 28,
   "metadata": {},
   "outputs": [
    {
     "data": {
      "application/vnd.jupyter.widget-view+json": {
       "model_id": "3d3677f8e6dc4c51a3c972dd75e16282",
       "version_major": 2,
       "version_minor": 0
      },
      "text/plain": [
       "interactive(children=(IntSlider(value=4999, description='測試編號', max=9999), Button(description='Run Interact', …"
      ]
     },
     "metadata": {},
     "output_type": "display_data"
    }
   ],
   "source": [
    "#訓練結果展示\n",
    "from ipywidgets import interact_manual\n",
    "\n",
    "predict=model.predict_classes(x_test)\n",
    "\n",
    "def test(測試編號):\n",
    "    plt.imshow(x_test[測試編號].reshape(28,28),cmap='Greys')\n",
    "    print('神經網路判斷為:',predict[測試編號])\n",
    "\n",
    "interact_manual(test,測試編號=(0,9999));"
   ]
  },
  {
   "cell_type": "code",
   "execution_count": 29,
   "metadata": {},
   "outputs": [],
   "source": [
    "#儲存結果\n",
    "model_json=model.to_json()\n",
    "open('handwriting_model_architecture.json','w').write(model_json)\n",
    "model.save_weights('handwriting_model_weights.h5')"
   ]
  },
  {
   "cell_type": "code",
   "execution_count": null,
   "metadata": {},
   "outputs": [],
   "source": []
  }
 ],
 "metadata": {
  "kernelspec": {
   "display_name": "Python 3",
   "language": "python",
   "name": "python3"
  },
  "language_info": {
   "codemirror_mode": {
    "name": "ipython",
    "version": 3
   },
   "file_extension": ".py",
   "mimetype": "text/x-python",
   "name": "python",
   "nbconvert_exporter": "python",
   "pygments_lexer": "ipython3",
   "version": "3.7.3"
  }
 },
 "nbformat": 4,
 "nbformat_minor": 2
}
